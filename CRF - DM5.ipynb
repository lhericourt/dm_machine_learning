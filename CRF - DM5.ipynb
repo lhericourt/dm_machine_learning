{
 "cells": [
  {
   "cell_type": "markdown",
   "metadata": {},
   "source": [
    "# Q2 - Experiments Python CRF suite"
   ]
  },
  {
   "cell_type": "code",
   "execution_count": 135,
   "metadata": {
    "collapsed": false
   },
   "outputs": [],
   "source": [
    "%matplotlib inline\n",
    "import matplotlib.pyplot as plt\n",
    "import nltk\n",
    "import cPickle as pickle\n",
    "import pycrfsuite\n",
    "from sklearn.preprocessing import LabelBinarizer\n",
    "from itertools import chain\n",
    "from sklearn.metrics import classification_report, confusion_matrix, f1_score, precision_score, recall_score\n",
    "\n",
    "import warnings\n",
    "warnings.filterwarnings('ignore')\n",
    "\n",
    "import numpy as np\n",
    "from pycrfsuite import Tagger\n",
    "from flexcrf_tp.models.linear_chain import (_feat_fun_values,\n",
    "                                            _compute_all_potentials,\n",
    "                                            _forward_score,\n",
    "                                            _backward_score,\n",
    "                                            _partition_fun_value,\n",
    "                                            _posterior_score)\n",
    "\n",
    "from flexcrf_tp.crfsuite2flexcrf import convert_data_to_flexcrf\n",
    "\n",
    "train_sents = list(nltk.corpus.conll2002.iob_sents('esp.train'))\n",
    "test_sents = list(nltk.corpus.conll2002.iob_sents('esp.testb'))"
   ]
  },
  {
   "cell_type": "code",
   "execution_count": 136,
   "metadata": {
    "collapsed": true
   },
   "outputs": [],
   "source": [
    "def word2features(sent, i):\n",
    "    word = sent[i][0]\n",
    "    postag = sent[i][1]\n",
    "    features = [\n",
    "        'bias',\n",
    "        'word.lower=' + word.lower(),\n",
    "        'word[-3:]=' + word[-3:],\n",
    "        'word[-2:]=' + word[-2:],\n",
    "        'word.isupper=%s' % word.isupper(),\n",
    "        'word.istitle=%s' % word.istitle(),\n",
    "        'word.isdigit=%s' % word.isdigit(),\n",
    "        'postag=' + postag,\n",
    "        'postag[:2]=' + postag[:2],\n",
    "    ]\n",
    "    if i > 0:\n",
    "        word1 = sent[i-1][0]\n",
    "        postag1 = sent[i-1][1]\n",
    "        features.extend([\n",
    "            '-1:word.lower=' + word1.lower(),\n",
    "            '-1:word.istitle=%s' % word1.istitle(),\n",
    "            '-1:word.isupper=%s' % word1.isupper(),\n",
    "            '-1:postag=' + postag1,\n",
    "            '-1:postag[:2]=' + postag1[:2],\n",
    "        ])\n",
    "    else:\n",
    "        features.append('BOS')\n",
    "        \n",
    "    if i < len(sent)-1:\n",
    "        word1 = sent[i+1][0]\n",
    "        postag1 = sent[i+1][1]\n",
    "        features.extend([\n",
    "            '+1:word.lower=' + word1.lower(),\n",
    "            '+1:word.istitle=%s' % word1.istitle(),\n",
    "            '+1:word.isupper=%s' % word1.isupper(),\n",
    "            '+1:postag=' + postag1,\n",
    "            '+1:postag[:2]=' + postag1[:2],\n",
    "        ])\n",
    "    else:\n",
    "        features.append('EOS')\n",
    "                \n",
    "    return features\n",
    "\n",
    "\n",
    "def sent2features(sent):\n",
    "    return [word2features(sent, i) for i in range(len(sent))]\n",
    "\n",
    "def sent2labels(sent):\n",
    "    return [label for token, postag, label in sent]\n",
    "\n",
    "def sent2tokens(sent):\n",
    "    return [token for token, postag, label in sent]    "
   ]
  },
  {
   "cell_type": "code",
   "execution_count": 137,
   "metadata": {
    "collapsed": false
   },
   "outputs": [
    {
     "name": "stdout",
     "output_type": "stream",
     "text": [
      "CPU times: user 3.75 s, sys: 476 ms, total: 4.22 s\n",
      "Wall time: 4.26 s\n"
     ]
    }
   ],
   "source": [
    "%%time\n",
    "X_train = [sent2features(s) for s in train_sents]\n",
    "y_train = [sent2labels(s) for s in train_sents]\n",
    "\n",
    "X_test = [sent2features(s) for s in test_sents]\n",
    "y_test = [sent2labels(s) for s in test_sents]"
   ]
  },
  {
   "cell_type": "code",
   "execution_count": 138,
   "metadata": {
    "collapsed": false
   },
   "outputs": [
    {
     "name": "stdout",
     "output_type": "stream",
     "text": [
      "CPU times: user 5.92 s, sys: 713 ms, total: 6.64 s\n",
      "Wall time: 6.76 s\n"
     ]
    }
   ],
   "source": [
    "%%time\n",
    "trainer = pycrfsuite.Trainer(verbose=False)\n",
    "\n",
    "for xseq, yseq in zip(X_train, y_train):\n",
    "    trainer.append(xseq, yseq)"
   ]
  },
  {
   "cell_type": "code",
   "execution_count": 139,
   "metadata": {
    "collapsed": true
   },
   "outputs": [],
   "source": [
    "trainer.set_params({\n",
    "    'c1': 1e-2,   # coefficient for L1 penalty\n",
    "    'c2': 1e-1,  # coefficient for L2 penalty\n",
    "    'max_iterations': 100,  # stop earlier\n",
    "\n",
    "    # include transitions that are possible, but not observed\n",
    "    'feature.possible_transitions': True\n",
    "})"
   ]
  },
  {
   "cell_type": "code",
   "execution_count": 140,
   "metadata": {
    "collapsed": true
   },
   "outputs": [],
   "source": [
    "trainer.train('conll2002/conll2002-esp.crfsuite')"
   ]
  },
  {
   "cell_type": "code",
   "execution_count": 141,
   "metadata": {
    "collapsed": false
   },
   "outputs": [],
   "source": [
    "def bio_classification_report(y_true, y_pred):\n",
    "    \"\"\"\n",
    "    Classification report for a list of BIO-encoded sequences.\n",
    "    It computes token-level metrics and discards \"O\" labels.\n",
    "    \n",
    "    Note that it requires scikit-learn 0.15+ (or a version from github master)\n",
    "    to calculate averages properly!\n",
    "    \"\"\"\n",
    "    lb = LabelBinarizer()\n",
    "    y_true_combined = lb.fit_transform(list(chain.from_iterable(y_true)))\n",
    "    y_pred_combined = lb.transform(list(chain.from_iterable(y_pred)))\n",
    "        \n",
    "    tagset = set(lb.classes_) - {'O'}\n",
    "    tagset = sorted(tagset, key=lambda tag: tag.split('-', 1)[::-1])\n",
    "    class_indices = {cls: idx for idx, cls in enumerate(lb.classes_)}\n",
    "    \n",
    "    return precision_score(y_true_combined, \n",
    "                    y_pred_combined, \n",
    "                    labels = [class_indices[cls] for cls in tagset], \n",
    "                    average=\"weighted\"),\\\n",
    "           recall_score(y_true_combined, \n",
    "                    y_pred_combined, \n",
    "                    labels = [class_indices[cls] for cls in tagset], \n",
    "                    average=\"weighted\"),\\\n",
    "           f1_score(y_true_combined, \n",
    "                    y_pred_combined, \n",
    "                    labels = [class_indices[cls] for cls in tagset], \n",
    "                    average=\"weighted\"),\\\n",
    "           classification_report(\n",
    "                     y_true_combined,\n",
    "                     y_pred_combined,\n",
    "                     labels = [class_indices[cls] for cls in tagset],\n",
    "                     target_names = tagset,\n",
    "        )"
   ]
  },
  {
   "cell_type": "code",
   "execution_count": 142,
   "metadata": {
    "collapsed": false
   },
   "outputs": [
    {
     "name": "stdout",
     "output_type": "stream",
     "text": [
      "CPU times: user 1.64 ms, sys: 5.29 ms, total: 6.93 ms\n",
      "Wall time: 73.9 ms\n"
     ]
    }
   ],
   "source": [
    "%%time\n",
    "tagger = pycrfsuite.Tagger()\n",
    "tagger.open('conll2002/conll2002-esp.crfsuite')"
   ]
  },
  {
   "cell_type": "code",
   "execution_count": 143,
   "metadata": {
    "collapsed": true
   },
   "outputs": [],
   "source": [
    "y_pred = [tagger.tag(xseq) for xseq in X_test]"
   ]
  },
  {
   "cell_type": "code",
   "execution_count": 144,
   "metadata": {
    "collapsed": false,
    "scrolled": false
   },
   "outputs": [
    {
     "name": "stdout",
     "output_type": "stream",
     "text": [
      "             precision    recall  f1-score   support\n",
      "\n",
      "      B-LOC       0.80      0.78      0.79      1084\n",
      "      I-LOC       0.69      0.62      0.65       325\n",
      "     B-MISC       0.73      0.55      0.63       339\n",
      "     I-MISC       0.72      0.57      0.63       557\n",
      "      B-ORG       0.81      0.84      0.82      1400\n",
      "      I-ORG       0.85      0.80      0.82      1104\n",
      "      B-PER       0.85      0.88      0.86       735\n",
      "      I-PER       0.89      0.94      0.91       634\n",
      "\n",
      "avg / total       0.81      0.78      0.79      6178\n",
      "\n"
     ]
    }
   ],
   "source": [
    "print(bio_classification_report(y_test, y_pred)[3])"
   ]
  },
  {
   "cell_type": "markdown",
   "metadata": {},
   "source": [
    "### Tests avec différents paramètres de régularisation C1 et C2"
   ]
  },
  {
   "cell_type": "code",
   "execution_count": 35,
   "metadata": {
    "collapsed": false
   },
   "outputs": [],
   "source": [
    "# Définition des grid search\n",
    "grid_c1 = [0, 1e-5, 1e-4, 1e-3, 1e-2, 1e-1, 1, 1e1, 1e2]\n",
    "grid_c2 = [0, 1e-5, 1e-4, 1e-3, 1e-2, 1e-1, 1, 1e1, 1e2]\n",
    "\n",
    "# Définition de la matrice dans laquelle nous allons\n",
    "# stocker les résultats\n",
    "result = np.ones((len(grid_c1) * len(grid_c2), 5))\n",
    "i = 0\n",
    "\n",
    "for c1 in grid_c1:\n",
    "    for c2 in grid_c2:\n",
    "        \n",
    "        # Définition des paramètres du modèle\n",
    "        trainer.set_params({\n",
    "            'c1': c1,\n",
    "            'c2': c2,\n",
    "            'max_iterations': 50,\n",
    "            'feature.possible_transitions': True\n",
    "        })\n",
    "        \n",
    "        # Entrainement du modèle\n",
    "        trainer.train('conll2002/conll2002-esp.crfsuite')\n",
    "       \n",
    "        # Prédiction sur les données de test\n",
    "        tagger = pycrfsuite.Tagger()\n",
    "        tagger.open('conll2002/conll2002-esp.crfsuite')\n",
    "        y_pred= \"\"\n",
    "        y_pred = [tagger.tag(xseq) for xseq in X_test]\n",
    "        \n",
    "        # Stockage des résultats\n",
    "        result[i, 0] = c1\n",
    "        result[i, 1] = c2\n",
    "        precision, recall, f1, report = bio_classification_report(y_test, y_pred)\n",
    "        result[i, 2] = precision\n",
    "        result[i, 3] = recall\n",
    "        result[i, 4] = f1\n",
    "        i += 1"
   ]
  },
  {
   "cell_type": "code",
   "execution_count": 78,
   "metadata": {
    "collapsed": false
   },
   "outputs": [],
   "source": [
    "# Défition de la fonction d'affichage des résultats\n",
    "def plot_result(x_range, precision, recall, f1, title, xlabel): \n",
    "    plt.suptitle(title, fontsize=12, fontweight='bold')\n",
    "    plt.xlabel(xlabel)\n",
    "    plt.ylabel(\"Score\")\n",
    "    plt.semilogx(x_range, f1, 'r', label=\"f1\")\n",
    "    plt.semilogx(x_range, precision, 'b', label=\"precision\")\n",
    "    plt.semilogx(x_range, recall, 'g', label=\"recall\")\n",
    "\n",
    "    plt.legend(loc=\"lower left\")\n",
    "    plt.show()"
   ]
  },
  {
   "cell_type": "code",
   "execution_count": 82,
   "metadata": {
    "collapsed": false
   },
   "outputs": [
    {
     "data": {
      "image/png": "[encoded data removed]",
      "text/plain": [
       "<matplotlib.figure.Figure at 0x10fa8dd50>"
      ]
     },
     "metadata": {},
     "output_type": "display_data"
    }
   ],
   "source": [
    "# Cas c1 = 0 (pas de régularisation L1)\n",
    "# Récupération des résultats pour ce cas\n",
    "x_range = result[np.where(result[:, 0] == 0), 1][0]\n",
    "precision = result[np.where(result[:, 0] == 0), 2][0]\n",
    "recall = result[np.where(result[:, 0] == 0), 3][0]\n",
    "f1 = result[np.where(result[:, 0] == 0), 4][0]\n",
    "\n",
    "# Affichage des résultats\n",
    "plot_result(x_range, precision, recall, f1, \"Resultats Penalisation L2\", \"Valeurs C2\")"
   ]
  },
  {
   "cell_type": "code",
   "execution_count": 86,
   "metadata": {
    "collapsed": false
   },
   "outputs": [
    {
     "data": {
      "image/png": "[encoded data removed]",
      "text/plain": [
       "<matplotlib.figure.Figure at 0x10fb384d0>"
      ]
     },
     "metadata": {},
     "output_type": "display_data"
    }
   ],
   "source": [
    "# Cas c2 = 0 (pas de régularisation L2)\n",
    "# Récupération des résultats pour ce cas\n",
    "x_range = result[np.where(result[:, 1] == 0), 0][0]\n",
    "precision = result[np.where(result[:, 1] == 0), 2][0]\n",
    "recall = result[np.where(result[:, 1] == 0), 3][0]\n",
    "f1 = result[np.where(result[:, 1] == 0), 4][0]\n",
    "\n",
    "# Affichage des résultats\n",
    "plot_result(x_range, precision, recall, f1, \"Resultats Penalisation L1\", \"Valeurs C1\")"
   ]
  },
  {
   "cell_type": "code",
   "execution_count": 105,
   "metadata": {
    "collapsed": false,
    "scrolled": false
   },
   "outputs": [
    {
     "name": "stdout",
     "output_type": "stream",
     "text": [
      "Résultat sans pénalisation : precision = 0.695, recall = 0.685, f1 = 0.686\n",
      "\n",
      "Meilleur F1 score : precision = 0.806, recall = 0.782, f1 = 0.793\n",
      "\n",
      "Le meilleur score est obtenu pour le paramétrage suivant : c1 = 0.01 et c2 = 0.1\n"
     ]
    }
   ],
   "source": [
    "print(\"Résultat sans pénalisation : precision = {:.3f}, recall = {:.3f}, f1 = {:.3f}\\n\")\\\n",
    "    .format(result[0, 2], result[0, 3], result[0, 4])\n",
    "\n",
    "index_best_score = np.argmax(result[:, 4])\n",
    "\n",
    "print(\"Meilleur F1 score : precision = {:.3f}, recall = {:.3f}, f1 = {:.3f}\\n\")\\\n",
    "    .format(result[index_best_score, 2], result[index_best_score, 3], result[index_best_score, 4])\n",
    "\n",
    "print(\"Le meilleur score est obtenu pour le paramétrage suivant : c1 = {} et c2 = {}\"\\\n",
    "    .format(result[index_best_score, 0], result[index_best_score, 1]))"
   ]
  },
  {
   "cell_type": "markdown",
   "metadata": {},
   "source": [
    "\n",
    "### Résultats\n",
    "\n",
    "La régularisation L1 permet de bien améliorer le score alors que la régularisation L2 n'a pas beaucoup d'impact sur le score.\n",
    "\n",
    "La norme 1 permet de choisir certaines composantes, et fonctionne correctement dans ce cas entre autre parce que la matrice de features est sparce.\n",
    "\n",
    "La norme 2 permet de conserver des paramètres du modèle pas trop élevés."
   ]
  },
  {
   "cell_type": "markdown",
   "metadata": {},
   "source": [
    "# Q3 - Coding your own CRF inference routines in python"
   ]
  },
  {
   "cell_type": "code",
   "execution_count": 145,
   "metadata": {
    "collapsed": true
   },
   "outputs": [],
   "source": [
    "CRFSUITE_MODEL_FILE = 'conll2002/conll2002-esp.crfsuite'\n",
    "CRFSUITE_TEST_DATA_FILE = 'conll2002/conll2002-esp_crfsuite-test-data.dump'\n",
    "FLEXCRF_TEST_DATA_FILE = 'conll2002/conll2002-esp_flexcrf-test-data.dump'"
   ]
  },
  {
   "cell_type": "code",
   "execution_count": 146,
   "metadata": {
    "collapsed": false
   },
   "outputs": [
    {
     "name": "stdout",
     "output_type": "stream",
     "text": [
      "test data loaded.\n"
     ]
    }
   ],
   "source": [
    "# crfsuite model\n",
    "tagger = Tagger()\n",
    "tagger.open(CRFSUITE_MODEL_FILE)\n",
    "model = tagger.info()\n",
    "\n",
    "data = pickle.load(open(CRFSUITE_TEST_DATA_FILE, 'rb'))\n",
    "print(\"test data loaded.\")"
   ]
  },
  {
   "cell_type": "code",
   "execution_count": 147,
   "metadata": {
    "collapsed": false
   },
   "outputs": [
    {
     "name": "stdout",
     "output_type": "stream",
     "text": [
      "\n",
      "converting to flexcrf format...\n",
      "f_xy_desc created.\n",
      "t_xyy_desc created\n",
      "Processing sentence 1/3...\n",
      "Processing sentence 2/3...\n",
      "Processing sentence 3/3...\n"
     ]
    }
   ],
   "source": [
    "RECREATE = True  # set to True to recreate flexcrf data with new model\n",
    "\n",
    "if RECREATE:\n",
    "    dataset, thetas = convert_data_to_flexcrf(data, model, n_seq=3)\n",
    "    pickle.dump({'dataset': dataset, 'thetas': thetas},\n",
    "                open(FLEXCRF_TEST_DATA_FILE, 'wb'), protocol=2)\n",
    "else:\n",
    "    dd = pickle.load(open(FLEXCRF_TEST_DATA_FILE, 'rb'))\n",
    "    dataset = dd['dataset']\n",
    "    thetas = dd['thetas']"
   ]
  },
  {
   "cell_type": "markdown",
   "metadata": {},
   "source": [
    "### Implémentation du décodeur Viterbi"
   ]
  },
  {
   "cell_type": "code",
   "execution_count": 148,
   "metadata": {
    "collapsed": true
   },
   "outputs": [],
   "source": [
    "def viterbi_decoder(m_xy, n=None, log_version=True):\n",
    "    \"\"\"\n",
    "    Performs MAP inference, determining $y = \\argmax_y P(y|x)$, using the\n",
    "    Viterbi algorithm.\n",
    "\n",
    "    Parameters\n",
    "    ----------\n",
    "    m_xy : ndarray, shape (n_obs, n_labels, n_labels)\n",
    "        Values of log-potentials ($\\log M_i(y_{i-1}, y_i, x)$)\n",
    "        computed based on feature functions f_xy and/or user-defined potentials\n",
    "        `psi_xy`. At t=0, m_xy[0, 0, :] contains values of $\\log M_1(y_0, y_1)$\n",
    "        with $y_0$ the fixed initial state.\n",
    "\n",
    "    n : integer, default=None\n",
    "        Time position up to which to decode the optimal sequence; if not\n",
    "        specified (default) the score is computed for the whole sequence.\n",
    "\n",
    "    Returns\n",
    "    -------\n",
    "    y_pred : ndarray, shape (n_obs,)\n",
    "        Predicted optimal sequence of labels.\n",
    "\n",
    "    \"\"\"\n",
    "\n",
    "    # Intialisation des variables\n",
    "    nb_words = m_xy.shape[0]\n",
    "    nb_states = m_xy.shape[1]\n",
    "\n",
    "    delta = np.zeros((nb_words, nb_states))\n",
    "    psi = np.zeros((nb_words, nb_states))\n",
    "    delta[0, :] = m_xy[0, 0, :]\n",
    "    psi[0, :] = 0\n",
    "    y_pred = np.zeros(nb_words)\n",
    "\n",
    "    # Récurrence pour calculer delta et psi\n",
    "    for w in range(1, nb_words):\n",
    "        for s in range(nb_states):\n",
    "            delta[w, s] = np.max(delta[w - 1, :] + m_xy[w, :, s])\n",
    "            psi[w, s] = np.argmax(delta[w - 1, :] + m_xy[w, :, s])\n",
    "\n",
    "    # Calcul par backtracking d'y_pred\n",
    "    y_pred[nb_words - 1] = int(np.argmax(delta[nb_words - 1, :]))\n",
    "\n",
    "    for w in range(nb_words - 2, -1, -1):\n",
    "        y_pred[w] = int(psi[w + 1, int(y_pred[w + 1])])\n",
    "\n",
    "    return y_pred"
   ]
  },
  {
   "cell_type": "markdown",
   "metadata": {},
   "source": [
    "### Calcul de la probabilité à postériori de la séquence trouvée"
   ]
  },
  {
   "cell_type": "code",
   "execution_count": 149,
   "metadata": {
    "collapsed": false
   },
   "outputs": [
    {
     "name": "stdout",
     "output_type": "stream",
     "text": [
      "\n",
      "-- With crfsuite:\n",
      "('labels:\\n', ['B-LOC', 'I-LOC', 'O', 'O', 'O', 'O', 'B-ORG', 'O', 'O'], '\\n', array([0, 7, 1, 1, 1, 1, 2, 1, 1]))\n",
      "probability:\t 0.984796\n",
      "-- With flexcrf:\n",
      "('labels:\\n', array([ 0.,  7.,  1.,  1.,  1.,  1.,  2.,  1.,  1.]))\n",
      "('equal predictions: ', True)\n",
      "probability:\t 0.984796\n",
      "delta:\t 0.000000\n",
      "\n",
      "-- With crfsuite:\n",
      "('labels:\\n', ['O'], '\\n', array([1]))\n",
      "probability:\t 0.999999\n",
      "-- With flexcrf:\n",
      "('labels:\\n', array([ 1.]))\n",
      "('equal predictions: ', True)\n",
      "probability:\t 0.999999\n",
      "delta:\t 0.000000\n",
      "\n",
      "-- With crfsuite:\n",
      "('labels:\\n', ['O', 'O', 'O', 'O', 'O', 'O', 'O', 'O', 'O', 'O', 'O', 'O', 'B-MISC', 'O', 'O', 'B-LOC', 'O', 'O', 'O', 'O', 'O', 'O', 'O', 'O', 'O', 'O', 'O', 'O', 'O', 'O', 'O', 'O', 'O', 'O', 'O', 'O', 'O', 'B-PER', 'I-PER', 'I-PER', 'O', 'O', 'O', 'O', 'O', 'B-LOC', 'I-LOC', 'O'], '\\n', array([1, 1, 1, 1, 1, 1, 1, 1, 1, 1, 1, 1, 5, 1, 1, 0, 1, 1, 1, 1, 1, 1, 1,\n",
      "       1, 1, 1, 1, 1, 1, 1, 1, 1, 1, 1, 1, 1, 1, 3, 4, 4, 1, 1, 1, 1, 1, 0,\n",
      "       7, 1]))\n",
      "probability:\t 0.441111\n",
      "-- With flexcrf:\n",
      "('labels:\\n', array([ 1.,  1.,  1.,  1.,  1.,  1.,  1.,  1.,  1.,  1.,  1.,  1.,  5.,\n",
      "        1.,  1.,  0.,  1.,  1.,  1.,  1.,  1.,  1.,  1.,  1.,  1.,  1.,\n",
      "        1.,  1.,  1.,  1.,  1.,  1.,  1.,  1.,  1.,  1.,  1.,  3.,  4.,\n",
      "        4.,  1.,  1.,  1.,  1.,  1.,  0.,  7.,  1.]))\n",
      "('equal predictions: ', True)\n",
      "probability:\t 0.441111\n",
      "delta:\t 0.000000\n"
     ]
    }
   ],
   "source": [
    "for seq in range(len(dataset)):\n",
    "    # -- with crfsuite\n",
    "    s_ = tagger.tag(data['X'][seq])\n",
    "    y_ = np.array([int(model.labels[s]) for s in s_])\n",
    "    prob_ = tagger.probability(s_)\n",
    "\n",
    "    print(\"\\n-- With crfsuite:\")\n",
    "    print(\"labels:\\n\", s_, \"\\n\", y_)\n",
    "    print(\"probability:\\t %f\" % prob_)\n",
    "\n",
    "    # -- with flexcrf\n",
    "    f_xy, y = dataset[seq]\n",
    "    theta = thetas[seq]\n",
    "    m_xy, f_m_xy = _compute_all_potentials(f_xy, theta)\n",
    "\n",
    "    y_pred = viterbi_decoder(m_xy)\n",
    "    alpha = _forward_score(m_xy)\n",
    "    beta = _backward_score(m_xy)\n",
    "    z_x = _partition_fun_value(alpha)\n",
    "    f_x = _feat_fun_values(f_xy, y_pred, with_f_x_sum=False)\n",
    "    prob = np.exp(_posterior_score(f_x, theta, z_x=z_x))\n",
    "\n",
    "    print(\"-- With flexcrf:\")\n",
    "    print(\"labels:\\n\", y_pred)\n",
    "    print(\"equal predictions: \", all(y_pred == y_))\n",
    "    print(\"probability:\\t %f\" % prob)\n",
    "    print(\"delta:\\t %f\" % abs(prob-prob_))\n",
    "tagger.close()"
   ]
  },
  {
   "cell_type": "markdown",
   "metadata": {
    "collapsed": true
   },
   "source": [
    "# Q4 - Going further\n",
    "\n",
    "### Avant d'implementer de nouvelles features, voyons le résultats sur le jeu de données conll2000 avec le code précédent"
   ]
  },
  {
   "cell_type": "code",
   "execution_count": 112,
   "metadata": {
    "collapsed": false
   },
   "outputs": [],
   "source": [
    "train_sents = list(nltk.corpus.conll2000.iob_sents('train.txt'))\n",
    "test_sents = list(nltk.corpus.conll2000.iob_sents('test.txt'))"
   ]
  },
  {
   "cell_type": "code",
   "execution_count": 113,
   "metadata": {
    "collapsed": false
   },
   "outputs": [
    {
     "name": "stdout",
     "output_type": "stream",
     "text": [
      "CPU times: user 4.07 s, sys: 2.12 s, total: 6.19 s\n",
      "Wall time: 8.65 s\n"
     ]
    }
   ],
   "source": [
    "%%time\n",
    "X_train = [sent2features(s) for s in train_sents]\n",
    "y_train = [sent2labels(s) for s in train_sents]\n",
    "\n",
    "X_test = [sent2features(s) for s in test_sents]\n",
    "y_test = [sent2labels(s) for s in test_sents]"
   ]
  },
  {
   "cell_type": "code",
   "execution_count": 114,
   "metadata": {
    "collapsed": false
   },
   "outputs": [
    {
     "name": "stdout",
     "output_type": "stream",
     "text": [
      "CPU times: user 4.56 s, sys: 401 ms, total: 4.96 s\n",
      "Wall time: 5.22 s\n"
     ]
    }
   ],
   "source": [
    "%%time\n",
    "trainer = pycrfsuite.Trainer(verbose=False)\n",
    "\n",
    "for xseq, yseq in zip(X_train, y_train):\n",
    "    trainer.append(xseq, yseq)"
   ]
  },
  {
   "cell_type": "code",
   "execution_count": 115,
   "metadata": {
    "collapsed": true
   },
   "outputs": [],
   "source": [
    "trainer.set_params({\n",
    "    'c1': 1e-2,   # coefficient for L1 penalty\n",
    "    'c2': 1e-1,  # coefficient for L2 penalty\n",
    "    'max_iterations': 100,  # stop earlier\n",
    "\n",
    "    # include transitions that are possible, but not observed\n",
    "    'feature.possible_transitions': True\n",
    "})"
   ]
  },
  {
   "cell_type": "code",
   "execution_count": 116,
   "metadata": {
    "collapsed": true
   },
   "outputs": [],
   "source": [
    "trainer.train('conll2002/conll2000.crfsuite')"
   ]
  },
  {
   "cell_type": "code",
   "execution_count": 117,
   "metadata": {
    "collapsed": false
   },
   "outputs": [
    {
     "name": "stdout",
     "output_type": "stream",
     "text": [
      "CPU times: user 1.87 ms, sys: 8.87 ms, total: 10.7 ms\n",
      "Wall time: 51.4 ms\n"
     ]
    }
   ],
   "source": [
    "%%time\n",
    "tagger = pycrfsuite.Tagger()\n",
    "tagger.open('conll2002/conll2000.crfsuite')"
   ]
  },
  {
   "cell_type": "code",
   "execution_count": 118,
   "metadata": {
    "collapsed": true
   },
   "outputs": [],
   "source": [
    "y_pred = [tagger.tag(xseq) for xseq in X_test]"
   ]
  },
  {
   "cell_type": "code",
   "execution_count": 119,
   "metadata": {
    "collapsed": false,
    "scrolled": false
   },
   "outputs": [
    {
     "name": "stdout",
     "output_type": "stream",
     "text": [
      "             precision    recall  f1-score   support\n",
      "\n",
      "     B-ADJP       0.80      0.75      0.78       438\n",
      "     I-ADJP       0.82      0.66      0.73       167\n",
      "     B-ADVP       0.84      0.81      0.82       866\n",
      "     I-ADVP       0.65      0.61      0.63        89\n",
      "    B-CONJP       0.45      0.56      0.50         9\n",
      "    I-CONJP       0.62      0.77      0.69        13\n",
      "     B-INTJ       1.00      1.00      1.00         2\n",
      "      B-LST       0.00      0.00      0.00         5\n",
      "      I-LST       0.00      0.00      0.00         2\n",
      "       B-NP       0.96      0.96      0.96     12422\n",
      "       I-NP       0.96      0.96      0.96     14376\n",
      "       B-PP       0.96      0.98      0.97      4811\n",
      "       I-PP       0.74      0.67      0.70        48\n",
      "      B-PRT       0.76      0.79      0.77       106\n",
      "     B-SBAR       0.87      0.82      0.85       535\n",
      "     I-SBAR       0.18      0.75      0.29         4\n",
      "       B-VP       0.96      0.95      0.96      4658\n",
      "       I-VP       0.94      0.96      0.95      2646\n",
      "\n",
      "avg / total       0.95      0.95      0.95     41197\n",
      "\n"
     ]
    }
   ],
   "source": [
    "print(bio_classification_report(y_test, y_pred)[3])"
   ]
  },
  {
   "cell_type": "markdown",
   "metadata": {},
   "source": [
    "### Nous allons maintenant ajouter de nouvelles features\n",
    " - Nous avons rajouté toutes les features décrites sur le site http://www.chokkan.org/software/crfsuite/tutorial.html.\n",
    " \n",
    " - A savoir, \n",
    "     - les mots  m-2 et m+2\n",
    "     - les postags p-2 et p+2\n",
    "     - les concaténations de mots avec le mot précédent et avec le mot suivant\n",
    "     - les concaténations des postags sur 2 et 3 niveaux\n",
    " \n",
    " - Nous avons aussi ajouté un attribut qui indique si le mot n'est composé que de lettres "
   ]
  },
  {
   "cell_type": "code",
   "execution_count": 132,
   "metadata": {
    "collapsed": true
   },
   "outputs": [],
   "source": [
    "def word2features_with_new_features(sent, i):\n",
    "    word = sent[i][0]\n",
    "    postag = sent[i][1]\n",
    "    \n",
    "    # Features pour le mot en tant que tel\n",
    "    features = [\n",
    "        'bias',\n",
    "        'word.lower=' + word.lower(),\n",
    "        'word[-5:]=' + word[-5:],\n",
    "        'word[-4:]=' + word[-4:],\n",
    "        'word[-3:]=' + word[-3:],\n",
    "        'word[-2:]=' + word[-2:],\n",
    "        'word.isupper=%s' % word.isupper(),\n",
    "        'word.istitle=%s' % word.istitle(),\n",
    "        'word.isdigit=%s' % word.isdigit(),\n",
    "        'word.isalpha=%s' % word.isalpha(),\n",
    "        'postag=' + postag,\n",
    "        'postag[:2]=' + postag[:2],\n",
    "    ]\n",
    "    \n",
    "    # Features liées au mot précédent\n",
    "    if i > 0:\n",
    "        word1 = sent[i-1][0]\n",
    "        postag1 = sent[i-1][1]\n",
    "        features.extend([\n",
    "            '-1:word.lower=' + word1.lower(),\n",
    "            '-1:word.istitle=%s' % word1.istitle(),\n",
    "            '-1:word.isupper=%s' % word1.isupper(),\n",
    "            '-1:word.isalpha=%s' % word.isalpha(),\n",
    "            '-1:word.isdigit=%s' % word.isdigit(),\n",
    "            '-1:postag=' + postag1,\n",
    "            '-1:postag[:2]=' + postag1[:2],\n",
    "        ])\n",
    "    else:\n",
    "        features.append('BOS')\n",
    "    \n",
    "    # Features liées au second mot précédent\n",
    "    if i > 1:\n",
    "        word2 = sent[i-2][0]\n",
    "        postag2 = sent[i-2][1]\n",
    "        features.extend([\n",
    "            '-2:word.lower=' + word2.lower(),\n",
    "            '-2:word.istitle=%s' % word2.istitle(),\n",
    "            '-2:word.isupper=%s' % word2.isupper(),\n",
    "            '-2:word.isalpha=%s' % word.isalpha(),\n",
    "            '-2:word.isdigit=%s' % word.isdigit(),\n",
    "            '-2:postag=' + postag2,\n",
    "            '-2:postag[:2]=' + postag2[:2],\n",
    "        ])\n",
    "        \n",
    "    # Features liées au second mot suivant\n",
    "    if i < len(sent)-2:\n",
    "        word2 = sent[i+2][0]\n",
    "        postag2 = sent[i+2][1]\n",
    "        features.extend([\n",
    "            '+2:word.lower=' + word2.lower(),\n",
    "            '+2:word.istitle=%s' % word2.istitle(),\n",
    "            '+2:word.isupper=%s' % word2.isupper(),\n",
    "            '+2:word.isalpha=%s' % word.isalpha(),\n",
    "            '+2:word.isdigit=%s' % word.isdigit(),\n",
    "            '+2:postag=' + postag2,\n",
    "            '+2:postag[:2]=' + postag2[:2],\n",
    "        ])\n",
    "    \n",
    "    # Features liées au mot suivant\n",
    "    if i < len(sent)-1:\n",
    "        word1 = sent[i+1][0]\n",
    "        postag1 = sent[i+1][1]\n",
    "        features.extend([\n",
    "            '+1:word.lower=' + word1.lower(),\n",
    "            '+1:word.istitle=%s' % word1.istitle(),\n",
    "            '+1:word.isupper=%s' % word1.isupper(),\n",
    "            '+1:word.isalpha=%s' % word.isalpha(),\n",
    "            '+1:word.isdigit=%s' % word.isdigit(),\n",
    "            '+1:postag=' + postag1,\n",
    "            '+1:postag[:2]=' + postag1[:2],\n",
    "        ])\n",
    "    else:\n",
    "        features.append('EOS')\n",
    "\n",
    "    \n",
    "    # Features qui concatènent plusieurs valeurs\n",
    "    if i > 0:\n",
    "        features.extend([\n",
    "            '-10:word.lower=' + sent[i-1][0] + '|' + sent[i][0],\n",
    "            '-10:postag=' + sent[i-1][1] + '|' + sent[i][1],\n",
    "\n",
    "        ])\n",
    "    \n",
    "    if i < len(sent)-1:\n",
    "        features.extend([\n",
    "            '+10:word.lower=' + sent[i][0] + '|' + sent[i+1][0],\n",
    "            '+10:postag=' + sent[i][1] + '|' + sent[i+1][1],\n",
    "        ])\n",
    "    \n",
    "    if (i > 0 and i < len(sent)-1):\n",
    "        features.extend([\n",
    "            '-101:postag=' + sent[i-1][1] + '|' + sent[i][1] +  '|' + sent[i+1][1],\n",
    "        ])\n",
    "    \n",
    "    if i > 1:\n",
    "        features.extend([\n",
    "            '-210:postag=' + sent[i-2][1] + '|' + sent[i-1][1] + '|' + sent[i][1],\n",
    "        ])\n",
    "    \n",
    "    if i < len(sent)-2:\n",
    "        features.extend([\n",
    "            '210:postag=' + sent[i][1] + '|' + sent[i+1][1] + '|' + sent[i+2][1],\n",
    "        ])\n",
    "\n",
    "    return features\n",
    "\n",
    "\n",
    "def sent2features_with_new_features(sent):\n",
    "    return [word2features_with_new_features(sent, i) for i in range(len(sent))]\n",
    "   "
   ]
  },
  {
   "cell_type": "code",
   "execution_count": 124,
   "metadata": {
    "collapsed": false
   },
   "outputs": [
    {
     "name": "stdout",
     "output_type": "stream",
     "text": [
      "CPU times: user 10.1 s, sys: 3.12 s, total: 13.2 s\n",
      "Wall time: 18 s\n"
     ]
    }
   ],
   "source": [
    "%%time\n",
    "X_train = [sent2features_with_new_features(s) for s in train_sents]\n",
    "y_train = [sent2labels(s) for s in train_sents]\n",
    "\n",
    "X_test = [sent2features_with_new_features(s) for s in test_sents]\n",
    "y_test = [sent2labels(s) for s in test_sents]"
   ]
  },
  {
   "cell_type": "code",
   "execution_count": 125,
   "metadata": {
    "collapsed": false
   },
   "outputs": [
    {
     "name": "stdout",
     "output_type": "stream",
     "text": [
      "CPU times: user 24.3 s, sys: 2.87 s, total: 27.2 s\n",
      "Wall time: 32.4 s\n"
     ]
    }
   ],
   "source": [
    "%%time\n",
    "trainer = pycrfsuite.Trainer(verbose=False)\n",
    "\n",
    "for xseq, yseq in zip(X_train, y_train):\n",
    "    trainer.append(xseq, yseq)"
   ]
  },
  {
   "cell_type": "code",
   "execution_count": 126,
   "metadata": {
    "collapsed": true
   },
   "outputs": [],
   "source": [
    "trainer.set_params({\n",
    "    'c1': 1e-2,   # coefficient for L1 penalty\n",
    "    'c2': 1e-1,  # coefficient for L2 penalty\n",
    "    'max_iterations': 100,  # stop earlier\n",
    "\n",
    "    # include transitions that are possible, but not observed\n",
    "    'feature.possible_transitions': True\n",
    "})"
   ]
  },
  {
   "cell_type": "code",
   "execution_count": 127,
   "metadata": {
    "collapsed": true
   },
   "outputs": [],
   "source": [
    "trainer.train('conll2002/conll2000.crfsuite')"
   ]
  },
  {
   "cell_type": "code",
   "execution_count": 128,
   "metadata": {
    "collapsed": false
   },
   "outputs": [
    {
     "data": {
      "text/plain": [
       "<contextlib.closing at 0x15d8932d0>"
      ]
     },
     "execution_count": 128,
     "metadata": {},
     "output_type": "execute_result"
    }
   ],
   "source": [
    "tagger = pycrfsuite.Tagger()\n",
    "tagger.open('conll2002/conll2000.crfsuite')"
   ]
  },
  {
   "cell_type": "code",
   "execution_count": 130,
   "metadata": {
    "collapsed": false
   },
   "outputs": [
    {
     "name": "stdout",
     "output_type": "stream",
     "text": [
      "CPU times: user 2.33 s, sys: 520 ms, total: 2.85 s\n",
      "Wall time: 3.64 s\n"
     ]
    }
   ],
   "source": [
    "%%time\n",
    "y_pred = [tagger.tag(xseq) for xseq in X_test]"
   ]
  },
  {
   "cell_type": "code",
   "execution_count": 131,
   "metadata": {
    "collapsed": false,
    "scrolled": false
   },
   "outputs": [
    {
     "name": "stdout",
     "output_type": "stream",
     "text": [
      "             precision    recall  f1-score   support\n",
      "\n",
      "     B-ADJP       0.82      0.77      0.79       438\n",
      "     I-ADJP       0.82      0.68      0.74       167\n",
      "     B-ADVP       0.85      0.82      0.83       866\n",
      "     I-ADVP       0.65      0.57      0.61        89\n",
      "    B-CONJP       0.56      0.56      0.56         9\n",
      "    I-CONJP       0.71      0.77      0.74        13\n",
      "     B-INTJ       1.00      1.00      1.00         2\n",
      "      B-LST       0.00      0.00      0.00         5\n",
      "      I-LST       0.00      0.00      0.00         2\n",
      "       B-NP       0.97      0.97      0.97     12422\n",
      "       I-NP       0.97      0.97      0.97     14376\n",
      "       B-PP       0.97      0.98      0.97      4811\n",
      "       I-PP       0.77      0.71      0.74        48\n",
      "      B-PRT       0.76      0.76      0.76       106\n",
      "     B-SBAR       0.88      0.85      0.87       535\n",
      "     I-SBAR       0.12      0.50      0.19         4\n",
      "       B-VP       0.96      0.96      0.96      4658\n",
      "       I-VP       0.95      0.96      0.96      2646\n",
      "\n",
      "avg / total       0.96      0.96      0.96     41197\n",
      "\n"
     ]
    }
   ],
   "source": [
    "print(bio_classification_report(y_test, y_pred)[3])"
   ]
  },
  {
   "cell_type": "markdown",
   "metadata": {
    "collapsed": true
   },
   "source": [
    "### Conclusion\n",
    "Avec ces nouvelles features le score a été très légèrement amélioré : nous sommes passé de 95% à 96% de bons résultats"
   ]
  }
 ],
 "metadata": {
  "kernelspec": {
   "display_name": "py2",
   "language": "python",
   "name": "py2"
  },
  "language_info": {
   "codemirror_mode": {
    "name": "ipython",
    "version": 2
   },
   "file_extension": ".py",
   "mimetype": "text/x-python",
   "name": "python",
   "nbconvert_exporter": "python",
   "pygments_lexer": "ipython2",
   "version": "2.7.13"
  }
 },
 "nbformat": 4,
 "nbformat_minor": 2
}
